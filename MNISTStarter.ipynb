{
  "nbformat": 4,
  "nbformat_minor": 0,
  "metadata": {
    "colab": {
      "name": "MNISTStarter.ipynb",
      "provenance": [],
      "collapsed_sections": [],
      "include_colab_link": true
    },
    "kernelspec": {
      "name": "python3",
      "display_name": "Python 3"
    }
  },
  "cells": [
    {
      "cell_type": "markdown",
      "metadata": {
        "id": "view-in-github",
        "colab_type": "text"
      },
      "source": [
        "<a href=\"https://colab.research.google.com/github/osagieomigie/TensorFlow_ML/blob/main/MNISTStarter.ipynb\" target=\"_parent\"><img src=\"https://colab.research.google.com/assets/colab-badge.svg\" alt=\"Open In Colab\"/></a>"
      ]
    },
    {
      "cell_type": "code",
      "metadata": {
        "id": "m4eZDEIAx0aH"
      },
      "source": [
        "try:\n",
        "  # %tensorflow_version only exists in Colab.\n",
        "  %tensorflow_version 2.x\n",
        "except Exception:\n",
        "  pass"
      ],
      "execution_count": 1,
      "outputs": []
    },
    {
      "cell_type": "code",
      "metadata": {
        "id": "ITCcIDcJx02Q",
        "colab": {
          "base_uri": "https://localhost:8080/"
        },
        "outputId": "bc4eaeab-5b15-4511-e14f-fa6c4a9c3199"
      },
      "source": [
        "import tensorflow as tf\n",
        "\n",
        "tf.random.set_seed(1234)\n",
        "\n",
        "print(\"--Get data--\")\n",
        "mnist = tf.keras.datasets.mnist\n",
        "(x_train, y_train), (x_test, y_test) = mnist.load_data()\n",
        "\n",
        "print(\"--Process data--\")\n",
        "x_train, x_test = x_train / 255.0, x_test / 255.0"
      ],
      "execution_count": 2,
      "outputs": [
        {
          "output_type": "stream",
          "text": [
            "--Get data--\n",
            "Downloading data from https://storage.googleapis.com/tensorflow/tf-keras-datasets/mnist.npz\n",
            "11493376/11490434 [==============================] - 0s 0us/step\n",
            "--Process data--\n"
          ],
          "name": "stdout"
        }
      ]
    },
    {
      "cell_type": "code",
      "metadata": {
        "colab": {
          "base_uri": "https://localhost:8080/"
        },
        "id": "T9_RMs-WYqX6",
        "outputId": "108d82c4-ec13-4b15-d130-400db8d1d7e6"
      },
      "source": [
        "print(\"--Make model--\")\n",
        "model = tf.keras.models.Sequential([\n",
        "  tf.keras.layers.Flatten(input_shape=(28, 28)),\n",
        "  tf.keras.layers.Dense(256, activation='relu'),\n",
        "  tf.keras.layers.Dropout(0.2),\n",
        "  tf.keras.layers.Dense(10, activation='softmax')\n",
        "])\n",
        "\n",
        "loss_fn = tf.keras.losses.SparseCategoricalCrossentropy()\n",
        "model.compile(optimizer=tf.keras.optimizers.Adagrad(learning_rate=0.2), loss=loss_fn, metrics=['accuracy'])\n",
        "\n",
        "print(\"--Fit model--\")\n",
        "model.fit(x_train, y_train, epochs=20, verbose=2)\n",
        "\n",
        "print(\"--Evaluate model--\")\n",
        "model_loss, model_acc = model.evaluate(x_test,  y_test, verbose=2)\n",
        "print(f\"Model Loss:    {model_loss:.2f}\")\n",
        "print(f\"Model Accuracy: {model_acc*100:.1f}%\")"
      ],
      "execution_count": 22,
      "outputs": [
        {
          "output_type": "stream",
          "text": [
            "--Make model--\n",
            "--Fit model--\n",
            "Epoch 1/20\n",
            "1875/1875 - 3s - loss: 0.2408 - accuracy: 0.9261\n",
            "Epoch 2/20\n",
            "1875/1875 - 3s - loss: 0.1130 - accuracy: 0.9660\n",
            "Epoch 3/20\n",
            "1875/1875 - 3s - loss: 0.0856 - accuracy: 0.9739\n",
            "Epoch 4/20\n",
            "1875/1875 - 3s - loss: 0.0671 - accuracy: 0.9787\n",
            "Epoch 5/20\n",
            "1875/1875 - 3s - loss: 0.0577 - accuracy: 0.9811\n",
            "Epoch 6/20\n",
            "1875/1875 - 3s - loss: 0.0474 - accuracy: 0.9847\n",
            "Epoch 7/20\n",
            "1875/1875 - 3s - loss: 0.0420 - accuracy: 0.9864\n",
            "Epoch 8/20\n",
            "1875/1875 - 3s - loss: 0.0354 - accuracy: 0.9882\n",
            "Epoch 9/20\n",
            "1875/1875 - 3s - loss: 0.0327 - accuracy: 0.9893\n",
            "Epoch 10/20\n",
            "1875/1875 - 3s - loss: 0.0264 - accuracy: 0.9913\n",
            "Epoch 11/20\n",
            "1875/1875 - 3s - loss: 0.0254 - accuracy: 0.9914\n",
            "Epoch 12/20\n",
            "1875/1875 - 3s - loss: 0.0243 - accuracy: 0.9920\n",
            "Epoch 13/20\n",
            "1875/1875 - 3s - loss: 0.0213 - accuracy: 0.9929\n",
            "Epoch 14/20\n",
            "1875/1875 - 3s - loss: 0.0196 - accuracy: 0.9935\n",
            "Epoch 15/20\n",
            "1875/1875 - 3s - loss: 0.0202 - accuracy: 0.9931\n",
            "Epoch 16/20\n",
            "1875/1875 - 3s - loss: 0.0182 - accuracy: 0.9939\n",
            "Epoch 17/20\n",
            "1875/1875 - 3s - loss: 0.0146 - accuracy: 0.9951\n",
            "Epoch 18/20\n",
            "1875/1875 - 3s - loss: 0.0146 - accuracy: 0.9956\n",
            "Epoch 19/20\n",
            "1875/1875 - 3s - loss: 0.0137 - accuracy: 0.9955\n",
            "Epoch 20/20\n",
            "1875/1875 - 3s - loss: 0.0133 - accuracy: 0.9955\n",
            "--Evaluate model--\n",
            "313/313 - 0s - loss: 0.0642 - accuracy: 0.9833\n",
            "Model Loss:    0.06\n",
            "Model Accuracy: 98.3%\n"
          ],
          "name": "stdout"
        }
      ]
    },
    {
      "cell_type": "code",
      "metadata": {
        "id": "uqKuNbSJEaWc"
      },
      "source": [
        "#Save Model to MNIST.h5"
      ],
      "execution_count": null,
      "outputs": []
    },
    {
      "cell_type": "code",
      "metadata": {
        "id": "0Vc4ePZwERJW"
      },
      "source": [
        "from google.colab import files\n",
        "files.download('MNIST.h5')"
      ],
      "execution_count": null,
      "outputs": []
    }
  ]
}