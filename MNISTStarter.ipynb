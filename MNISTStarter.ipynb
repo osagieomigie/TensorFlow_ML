{
  "nbformat": 4,
  "nbformat_minor": 0,
  "metadata": {
    "colab": {
      "name": "MNISTStarter.ipynb",
      "provenance": [],
      "collapsed_sections": []
    },
    "kernelspec": {
      "name": "python3",
      "display_name": "Python 3"
    }
  },
  "cells": [
    {
      "cell_type": "code",
      "metadata": {
        "id": "m4eZDEIAx0aH"
      },
      "source": [
        "try:\n",
        "  # %tensorflow_version only exists in Colab.\n",
        "  %tensorflow_version 2.x\n",
        "except Exception:\n",
        "  pass"
      ],
      "execution_count": 2,
      "outputs": []
    },
    {
      "cell_type": "code",
      "metadata": {
        "id": "ITCcIDcJx02Q"
      },
      "source": [
        "import tensorflow as tf\n",
        "\n",
        "tf.random.set_seed(1234)\n",
        "\n",
        "print(\"--Get data--\")\n",
        "mnist = tf.keras.datasets.mnist\n",
        "(x_train, y_train), (x_test, y_test) = mnist.load_data()\n",
        "\n",
        "print(\"--Process data--\")\n",
        "x_train, x_test = x_train / 255.0, x_test / 255.0"
      ],
      "execution_count": null,
      "outputs": []
    },
    {
      "cell_type": "code",
      "metadata": {
        "colab": {
          "base_uri": "https://localhost:8080/"
        },
        "id": "T9_RMs-WYqX6",
        "outputId": "12ae2b1d-7777-44c3-afed-0992e3c080e7"
      },
      "source": [
        "print(\"--Make model--\")\n",
        "model = tf.keras.models.Sequential([\n",
        "  tf.keras.layers.Flatten(input_shape=(28, 28)),\n",
        "  tf.keras.layers.Dense(115, activation='relu'),\n",
        "  tf.keras.layers.Dropout(0.1),\n",
        "  tf.keras.layers.Dense(10, activation='softmax')\n",
        "])\n",
        "\n",
        "loss_fn = tf.keras.losses.SparseCategoricalCrossentropy()\n",
        "model.compile(optimizer=tf.keras.optimizers.Adagrad(learning_rate=0.2), loss=loss_fn, metrics=['accuracy'])\n",
        "\n",
        "print(\"--Fit model--\")\n",
        "model.fit(x_train, y_train, epochs=20, verbose=2)\n",
        "\n",
        "print(\"--Evaluate model--\")\n",
        "model_loss, model_acc = model.evaluate(x_test,  y_test, verbose=2)\n",
        "print(f\"Model Loss:    {model_loss:.2f}\")\n",
        "print(f\"Model Accuracy: {model_acc*100:.1f}%\")"
      ],
      "execution_count": 107,
      "outputs": [
        {
          "output_type": "stream",
          "text": [
            "--Make model--\n",
            "--Fit model--\n",
            "Epoch 1/20\n",
            "1875/1875 - 3s - loss: 0.2393 - accuracy: 0.9266\n",
            "Epoch 2/20\n",
            "1875/1875 - 3s - loss: 0.1154 - accuracy: 0.9643\n",
            "Epoch 3/20\n",
            "1875/1875 - 3s - loss: 0.0910 - accuracy: 0.9722\n",
            "Epoch 4/20\n",
            "1875/1875 - 3s - loss: 0.0720 - accuracy: 0.9779\n",
            "Epoch 5/20\n",
            "1875/1875 - 3s - loss: 0.0630 - accuracy: 0.9796\n",
            "Epoch 6/20\n",
            "1875/1875 - 3s - loss: 0.0521 - accuracy: 0.9833\n",
            "Epoch 7/20\n",
            "1875/1875 - 3s - loss: 0.0459 - accuracy: 0.9852\n",
            "Epoch 8/20\n",
            "1875/1875 - 3s - loss: 0.0422 - accuracy: 0.9864\n",
            "Epoch 9/20\n",
            "1875/1875 - 3s - loss: 0.0374 - accuracy: 0.9876\n",
            "Epoch 10/20\n",
            "1875/1875 - 3s - loss: 0.0337 - accuracy: 0.9887\n",
            "Epoch 11/20\n",
            "1875/1875 - 3s - loss: 0.0308 - accuracy: 0.9894\n",
            "Epoch 12/20\n",
            "1875/1875 - 3s - loss: 0.0285 - accuracy: 0.9902\n",
            "Epoch 13/20\n",
            "1875/1875 - 3s - loss: 0.0267 - accuracy: 0.9912\n",
            "Epoch 14/20\n",
            "1875/1875 - 3s - loss: 0.0248 - accuracy: 0.9920\n",
            "Epoch 15/20\n",
            "1875/1875 - 3s - loss: 0.0239 - accuracy: 0.9920\n",
            "Epoch 16/20\n",
            "1875/1875 - 3s - loss: 0.0216 - accuracy: 0.9927\n",
            "Epoch 17/20\n",
            "1875/1875 - 3s - loss: 0.0199 - accuracy: 0.9938\n",
            "Epoch 18/20\n",
            "1875/1875 - 3s - loss: 0.0190 - accuracy: 0.9939\n",
            "Epoch 19/20\n",
            "1875/1875 - 3s - loss: 0.0194 - accuracy: 0.9938\n",
            "Epoch 20/20\n",
            "1875/1875 - 3s - loss: 0.0171 - accuracy: 0.9946\n",
            "--Evaluate model--\n",
            "313/313 - 0s - loss: 0.0750 - accuracy: 0.9814\n",
            "Model Loss:    0.08\n",
            "Model Accuracy: 98.1%\n"
          ],
          "name": "stdout"
        }
      ]
    },
    {
      "cell_type": "code",
      "metadata": {
        "id": "uqKuNbSJEaWc"
      },
      "source": [
        "#Save Model to MNIST.h5"
      ],
      "execution_count": null,
      "outputs": []
    },
    {
      "cell_type": "code",
      "metadata": {
        "id": "0Vc4ePZwERJW"
      },
      "source": [
        "from google.colab import files\n",
        "files.download('MNIST.h5')"
      ],
      "execution_count": null,
      "outputs": []
    }
  ]
}