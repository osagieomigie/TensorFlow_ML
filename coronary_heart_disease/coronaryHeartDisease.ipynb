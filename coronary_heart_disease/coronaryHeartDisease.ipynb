{
  "nbformat": 4,
  "nbformat_minor": 0,
  "metadata": {
    "colab": {
      "name": "coronaryHeartDisease.ipynb",
      "provenance": [],
      "collapsed_sections": [],
      "authorship_tag": "ABX9TyPUWe4ZmuIpOD9RkCQ1mm/Q",
      "include_colab_link": true
    },
    "kernelspec": {
      "name": "python3",
      "display_name": "Python 3"
    }
  },
  "cells": [
    {
      "cell_type": "markdown",
      "metadata": {
        "id": "view-in-github",
        "colab_type": "text"
      },
      "source": [
        "<a href=\"https://colab.research.google.com/github/osagieomigie/TensorFlow_ML/blob/main/coronary_heart_disease/coronaryHeartDisease.ipynb\" target=\"_parent\"><img src=\"https://colab.research.google.com/assets/colab-badge.svg\" alt=\"Open In Colab\"/></a>"
      ]
    },
    {
      "cell_type": "markdown",
      "metadata": {
        "id": "B882ymUcYNTu"
      },
      "source": [
        "This is an exercise based on the tutorial found here: https://www.tensorflow.org/tutorials/load_data/csv "
      ]
    },
    {
      "cell_type": "code",
      "metadata": {
        "id": "fkf8tTLnYdIp"
      },
      "source": [
        "try:\n",
        "  # %tensorflow_version only exists in Colab.\n",
        "  %tensorflow_version 2.x\n",
        "except Exception:\n",
        "  pass"
      ],
      "execution_count": 1,
      "outputs": []
    },
    {
      "cell_type": "code",
      "metadata": {
        "id": "YLhNWxBl3t-G"
      },
      "source": [
        "!pip install -q sklearn"
      ],
      "execution_count": 6,
      "outputs": []
    },
    {
      "cell_type": "code",
      "metadata": {
        "id": "fmKOWLwAYgmO"
      },
      "source": [
        "import pandas as pd\n",
        "import numpy as np\n",
        "import io\n",
        "\n",
        "# Make numpy values easier to read.\n",
        "np.set_printoptions(precision=3, suppress=True)\n",
        "\n",
        "import tensorflow as tf\n",
        "from tensorflow.keras import layers, regularizers\n",
        "from tensorflow.keras.layers.experimental import preprocessing\n",
        "from sklearn.model_selection import train_test_split"
      ],
      "execution_count": 165,
      "outputs": []
    },
    {
      "cell_type": "code",
      "metadata": {
        "colab": {
          "resources": {
            "http://localhost:8080/nbextensions/google.colab/files.js": {
              "data": "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",
              "ok": true,
              "headers": [
                [
                  "content-type",
                  "application/javascript"
                ]
              ],
              "status": 200,
              "status_text": ""
            }
          },
          "base_uri": "https://localhost:8080/",
          "height": 106
        },
        "id": "MCLkpUPT14gm",
        "outputId": "979b5076-1dc2-4525-992c-b93c124b5a6c"
      },
      "source": [
        "# Upload heart csv file\n",
        "from google.colab import files\n",
        "uploaded = files.upload()"
      ],
      "execution_count": 69,
      "outputs": [
        {
          "output_type": "display_data",
          "data": {
            "text/html": [
              "\n",
              "     <input type=\"file\" id=\"files-3764af6d-61cc-43e6-93d7-92b10222b6f1\" name=\"files[]\" multiple disabled\n",
              "        style=\"border:none\" />\n",
              "     <output id=\"result-3764af6d-61cc-43e6-93d7-92b10222b6f1\">\n",
              "      Upload widget is only available when the cell has been executed in the\n",
              "      current browser session. Please rerun this cell to enable.\n",
              "      </output>\n",
              "      <script src=\"/nbextensions/google.colab/files.js\"></script> "
            ],
            "text/plain": [
              "<IPython.core.display.HTML object>"
            ]
          },
          "metadata": {
            "tags": []
          }
        },
        {
          "output_type": "stream",
          "text": [
            "Saving heart_test.csv to heart_test (1).csv\n",
            "Saving heart_train.csv to heart_train (1).csv\n"
          ],
          "name": "stdout"
        }
      ]
    },
    {
      "cell_type": "code",
      "metadata": {
        "colab": {
          "base_uri": "https://localhost:8080/",
          "height": 204
        },
        "id": "gjbgYRlR2aR0",
        "outputId": "01a42e71-555a-4fb7-c74f-a2aeb43ab657"
      },
      "source": [
        "# read file\n",
        "heart_train_data = pd.read_csv(io.BytesIO(uploaded['heart_train.csv']))\n",
        "heart_test_data = pd.read_csv(io.BytesIO(uploaded['heart_test.csv']))\n",
        "\n",
        "# visualize\n",
        "heart_train_data.head()\n",
        "heart_test_data.head()\n"
      ],
      "execution_count": 84,
      "outputs": [
        {
          "output_type": "execute_result",
          "data": {
            "text/html": [
              "<div>\n",
              "<style scoped>\n",
              "    .dataframe tbody tr th:only-of-type {\n",
              "        vertical-align: middle;\n",
              "    }\n",
              "\n",
              "    .dataframe tbody tr th {\n",
              "        vertical-align: top;\n",
              "    }\n",
              "\n",
              "    .dataframe thead th {\n",
              "        text-align: right;\n",
              "    }\n",
              "</style>\n",
              "<table border=\"1\" class=\"dataframe\">\n",
              "  <thead>\n",
              "    <tr style=\"text-align: right;\">\n",
              "      <th></th>\n",
              "      <th>row.names</th>\n",
              "      <th>sbp</th>\n",
              "      <th>tobacco</th>\n",
              "      <th>ldl</th>\n",
              "      <th>adiposity</th>\n",
              "      <th>famhist</th>\n",
              "      <th>typea</th>\n",
              "      <th>obesity</th>\n",
              "      <th>alcohol</th>\n",
              "      <th>age</th>\n",
              "      <th>chd</th>\n",
              "    </tr>\n",
              "  </thead>\n",
              "  <tbody>\n",
              "    <tr>\n",
              "      <th>0</th>\n",
              "      <td>268</td>\n",
              "      <td>118</td>\n",
              "      <td>0.12</td>\n",
              "      <td>4.16</td>\n",
              "      <td>9.37</td>\n",
              "      <td>Absent</td>\n",
              "      <td>57</td>\n",
              "      <td>19.61</td>\n",
              "      <td>0.0</td>\n",
              "      <td>17</td>\n",
              "      <td>0</td>\n",
              "    </tr>\n",
              "    <tr>\n",
              "      <th>1</th>\n",
              "      <td>398</td>\n",
              "      <td>162</td>\n",
              "      <td>7.00</td>\n",
              "      <td>7.67</td>\n",
              "      <td>34.34</td>\n",
              "      <td>Present</td>\n",
              "      <td>33</td>\n",
              "      <td>30.77</td>\n",
              "      <td>0.0</td>\n",
              "      <td>62</td>\n",
              "      <td>0</td>\n",
              "    </tr>\n",
              "    <tr>\n",
              "      <th>2</th>\n",
              "      <td>408</td>\n",
              "      <td>180</td>\n",
              "      <td>25.01</td>\n",
              "      <td>3.70</td>\n",
              "      <td>38.11</td>\n",
              "      <td>Present</td>\n",
              "      <td>57</td>\n",
              "      <td>30.54</td>\n",
              "      <td>0.0</td>\n",
              "      <td>61</td>\n",
              "      <td>1</td>\n",
              "    </tr>\n",
              "    <tr>\n",
              "      <th>3</th>\n",
              "      <td>146</td>\n",
              "      <td>144</td>\n",
              "      <td>0.00</td>\n",
              "      <td>3.84</td>\n",
              "      <td>18.72</td>\n",
              "      <td>Absent</td>\n",
              "      <td>56</td>\n",
              "      <td>22.10</td>\n",
              "      <td>4.8</td>\n",
              "      <td>40</td>\n",
              "      <td>0</td>\n",
              "    </tr>\n",
              "    <tr>\n",
              "      <th>4</th>\n",
              "      <td>73</td>\n",
              "      <td>130</td>\n",
              "      <td>5.60</td>\n",
              "      <td>3.37</td>\n",
              "      <td>24.80</td>\n",
              "      <td>Absent</td>\n",
              "      <td>58</td>\n",
              "      <td>25.76</td>\n",
              "      <td>43.2</td>\n",
              "      <td>36</td>\n",
              "      <td>0</td>\n",
              "    </tr>\n",
              "  </tbody>\n",
              "</table>\n",
              "</div>"
            ],
            "text/plain": [
              "   row.names  sbp  tobacco   ldl  adiposity  ... typea  obesity  alcohol  age  chd\n",
              "0        268  118     0.12  4.16       9.37  ...    57    19.61      0.0   17    0\n",
              "1        398  162     7.00  7.67      34.34  ...    33    30.77      0.0   62    0\n",
              "2        408  180    25.01  3.70      38.11  ...    57    30.54      0.0   61    1\n",
              "3        146  144     0.00  3.84      18.72  ...    56    22.10      4.8   40    0\n",
              "4         73  130     5.60  3.37      24.80  ...    58    25.76     43.2   36    0\n",
              "\n",
              "[5 rows x 11 columns]"
            ]
          },
          "metadata": {
            "tags": []
          },
          "execution_count": 84
        }
      ]
    },
    {
      "cell_type": "code",
      "metadata": {
        "colab": {
          "base_uri": "https://localhost:8080/"
        },
        "id": "VKTgkhIW5FRv",
        "outputId": "d8e2f1e2-fa36-42c5-9a4a-597723357860"
      },
      "source": [
        "#heart_features = heart_data.copy()\n",
        "# target = heart_data['chd']\n",
        "# heart_data = heart_data.drop(columns=['chd'])\n",
        "# #print(heart_data.dtypes)\n",
        "# #heart_data['famhist'] = heart_data['famhist'].astype(int)\n",
        "\n",
        "# #print(heart_data.dtypes)\n",
        "\n",
        "# #chd_label = heart_data.pop('chd')\n",
        "# #train, test = train_test_split(heart_data, , test_size=0.2)\n",
        "# x_train, x_test, y_train, y_test = train_test_split(heart_data, target, test_size=0.20, random_state=0)\n",
        "\n",
        "# # print(heart_data.to_numpy())\n",
        "# print(len(y_train))\n",
        "# print(len(y_test))\n",
        "\n",
        "hTrainFeatures = heart_train_data.copy()\n",
        "chd_train_labels = hTrainFeatures.pop('chd')\n",
        "hTestFeatures = heart_test_data.copy()\n",
        "chd_test_labels = hTestFeatures.pop('chd')"
      ],
      "execution_count": 95,
      "outputs": [
        {
          "output_type": "stream",
          "text": [
            "--Split data--\n"
          ],
          "name": "stdout"
        }
      ]
    },
    {
      "cell_type": "code",
      "metadata": {
        "id": "II3e6zkS2SR7"
      },
      "source": [
        "# Create a symbolic input\n",
        "input = tf.keras.Input(shape=(), dtype=tf.float32)\n",
        "\n",
        "# Do a calculation using is\n",
        "result = 2*input + 1\n",
        "\n",
        "calc = tf.keras.Model(inputs=input, outputs=result)"
      ],
      "execution_count": 96,
      "outputs": []
    },
    {
      "cell_type": "code",
      "metadata": {
        "id": "NNB73Ya79-uS"
      },
      "source": [
        "def build_symbolic_objs(features):\n",
        "  inputs = {}\n",
        "\n",
        "  for name, column in features.items():\n",
        "    dtype = column.dtype\n",
        "    if dtype == object:\n",
        "      dtype = tf.string\n",
        "    else:\n",
        "      dtype = tf.float32\n",
        "\n",
        "    inputs[name] = tf.keras.Input(shape=(1,), name=name, dtype=dtype)\n",
        "  return inputs \n",
        "\n",
        "h_train_inputs = build_symbolic_objs(hTrainFeatures)\n",
        "h_test_inputs = build_symbolic_objs(hTestFeatures)\n",
        "\n"
      ],
      "execution_count": 97,
      "outputs": []
    },
    {
      "cell_type": "code",
      "metadata": {
        "id": "Ccx5UCvO2oO1"
      },
      "source": [
        "#Normalization layer \n",
        "\n",
        "def get_all_numeric_inputs(inputs, inputSet):\n",
        "  numeric_inputs = {name:input for name,input in inputs.items()\n",
        "                  if input.dtype==tf.float32}\n",
        "\n",
        "  x = layers.Concatenate()(list(numeric_inputs.values()))\n",
        "  norm = preprocessing.Normalization()\n",
        "  norm.adapt(np.array(inputSet[numeric_inputs.keys()]))\n",
        "  all_numeric_inputs = norm(x)\n",
        "  return all_numeric_inputs\n",
        "\n",
        "train_all_num_inputs = get_all_numeric_inputs(h_train_inputs, heart_train_data)\n",
        "test_all_num_inputs = get_all_numeric_inputs(h_test_inputs, heart_test_data)\n",
        "\n",
        "# Collect all the symbolic preprocessing results, to concatenate them later\n",
        "train_preprocessed_inputs = [train_all_num_inputs]\n",
        "test_preprocessed_inputs = [test_all_num_inputs]\n"
      ],
      "execution_count": 98,
      "outputs": []
    },
    {
      "cell_type": "code",
      "metadata": {
        "id": "0v-dv2x024v1"
      },
      "source": [
        "# map from strings to integer indices in a vocabulary\n",
        "\n",
        "def map_strings_to_ints(inputs, preprocessed_inputs, features):\n",
        "  for name, input in inputs.items():\n",
        "    if input.dtype == tf.float32:\n",
        "      continue\n",
        "    \n",
        "    lookup = preprocessing.StringLookup(vocabulary=np.unique(features[name]))\n",
        "    one_hot = preprocessing.CategoryEncoding(max_tokens=lookup.vocab_size())\n",
        "\n",
        "    x = lookup(input)\n",
        "    x = one_hot(x)\n",
        "    preprocessed_inputs.append(x)\n",
        "\n",
        "map_strings_to_ints(h_train_inputs, train_preprocessed_inputs, hTrainFeatures) \n",
        "map_strings_to_ints(h_test_inputs, test_preprocessed_inputs, hTestFeatures) "
      ],
      "execution_count": 99,
      "outputs": []
    },
    {
      "cell_type": "code",
      "metadata": {
        "id": "5uh5nevm3Jbd"
      },
      "source": [
        "train_preprocessed_inputs_cat = layers.Concatenate()(train_preprocessed_inputs)\n",
        "test_preprocessed_inputs_cat = layers.Concatenate()(test_preprocessed_inputs)\n",
        "\n",
        "chd_preprocessing = tf.keras.Model(h_train_inputs, train_preprocessed_inputs_cat)\n",
        "train_features_dict = {name: np.array(value) \n",
        "                         for name, value in hTrainFeatures.items()}\n",
        "\n",
        "test_features_dict = {name: np.array(value) \n",
        "                         for name, value in hTestFeatures.items()}"
      ],
      "execution_count": 100,
      "outputs": []
    },
    {
      "cell_type": "code",
      "metadata": {
        "colab": {
          "base_uri": "https://localhost:8080/"
        },
        "id": "nO4JIFn7MxUs",
        "outputId": "9bc83bdc-fd51-488a-d4ca-d371f01726dd"
      },
      "source": [
        "# build model \n",
        "def chd_model(preprocessing_head, inputs):\n",
        "  body = tf.keras.Sequential([\n",
        "    layers.Dense(256, activation='elu', kernel_regularizer=regularizers.l2(0.001)),\n",
        "    tf.keras.layers.Dropout(0.5),\n",
        "    layers.Dense(256, activation='elu', kernel_regularizer=regularizers.l2(0.001)),\n",
        "    tf.keras.layers.Dropout(0.5),\n",
        "    #layers.Dense(64, activation='relu'),\n",
        "    #tf.keras.layers.Dropout(0.1),\n",
        "    layers.Dense(1)\n",
        "  ])\n",
        "\n",
        "  preprocessed_inputs = preprocessing_head(inputs)\n",
        "  result = body(preprocessed_inputs)\n",
        "  model = tf.keras.Model(inputs, result)\n",
        "\n",
        "  model.compile(loss=tf.losses.BinaryCrossentropy(from_logits=True),\n",
        "                optimizer='adam', metrics=['accuracy'])\n",
        "  return model\n",
        "\n",
        "chd_model = chd_model(chd_preprocessing, h_train_inputs)\n",
        "\n",
        "# train model \n",
        "chd_model.fit(x=train_features_dict, y=chd_train_labels, epochs=100, verbose=2)\n",
        "\n",
        "print(\"--Evaluate model--\")\n",
        "model_loss, model_acc = chd_model.evaluate(x=test_features_dict, y=chd_test_labels, verbose=2)\n",
        "print(f\"Model Loss:    {model_loss:.2f}\")\n",
        "print(f\"Model Accuracy: {model_acc*100:.1f}%\")"
      ],
      "execution_count": 173,
      "outputs": [
        {
          "output_type": "stream",
          "text": [
            "Epoch 1/100\n",
            "12/12 - 0s - loss: 0.9212 - accuracy: 0.6721\n",
            "Epoch 2/100\n",
            "12/12 - 0s - loss: 0.8411 - accuracy: 0.7073\n",
            "Epoch 3/100\n",
            "12/12 - 0s - loss: 0.8262 - accuracy: 0.7019\n",
            "Epoch 4/100\n",
            "12/12 - 0s - loss: 0.7971 - accuracy: 0.7154\n",
            "Epoch 5/100\n",
            "12/12 - 0s - loss: 0.8114 - accuracy: 0.7209\n",
            "Epoch 6/100\n",
            "12/12 - 0s - loss: 0.7856 - accuracy: 0.7317\n",
            "Epoch 7/100\n",
            "12/12 - 0s - loss: 0.7939 - accuracy: 0.7236\n",
            "Epoch 8/100\n",
            "12/12 - 0s - loss: 0.7866 - accuracy: 0.7046\n",
            "Epoch 9/100\n",
            "12/12 - 0s - loss: 0.7754 - accuracy: 0.7073\n",
            "Epoch 10/100\n",
            "12/12 - 0s - loss: 0.7730 - accuracy: 0.6992\n",
            "Epoch 11/100\n",
            "12/12 - 0s - loss: 0.7524 - accuracy: 0.7290\n",
            "Epoch 12/100\n",
            "12/12 - 0s - loss: 0.7438 - accuracy: 0.7317\n",
            "Epoch 13/100\n",
            "12/12 - 0s - loss: 0.7861 - accuracy: 0.7019\n",
            "Epoch 14/100\n",
            "12/12 - 0s - loss: 0.7384 - accuracy: 0.7209\n",
            "Epoch 15/100\n",
            "12/12 - 0s - loss: 0.7435 - accuracy: 0.7073\n",
            "Epoch 16/100\n",
            "12/12 - 0s - loss: 0.7562 - accuracy: 0.6883\n",
            "Epoch 17/100\n",
            "12/12 - 0s - loss: 0.7389 - accuracy: 0.7046\n",
            "Epoch 18/100\n",
            "12/12 - 0s - loss: 0.7105 - accuracy: 0.7154\n",
            "Epoch 19/100\n",
            "12/12 - 0s - loss: 0.7287 - accuracy: 0.7290\n",
            "Epoch 20/100\n",
            "12/12 - 0s - loss: 0.7282 - accuracy: 0.7073\n",
            "Epoch 21/100\n",
            "12/12 - 0s - loss: 0.7147 - accuracy: 0.7317\n",
            "Epoch 22/100\n",
            "12/12 - 0s - loss: 0.6893 - accuracy: 0.7263\n",
            "Epoch 23/100\n",
            "12/12 - 0s - loss: 0.7094 - accuracy: 0.7290\n",
            "Epoch 24/100\n",
            "12/12 - 0s - loss: 0.7125 - accuracy: 0.7127\n",
            "Epoch 25/100\n",
            "12/12 - 0s - loss: 0.6965 - accuracy: 0.7398\n",
            "Epoch 26/100\n",
            "12/12 - 0s - loss: 0.7017 - accuracy: 0.7019\n",
            "Epoch 27/100\n",
            "12/12 - 0s - loss: 0.6747 - accuracy: 0.7182\n",
            "Epoch 28/100\n",
            "12/12 - 0s - loss: 0.6871 - accuracy: 0.7073\n",
            "Epoch 29/100\n",
            "12/12 - 0s - loss: 0.6875 - accuracy: 0.7290\n",
            "Epoch 30/100\n",
            "12/12 - 0s - loss: 0.6861 - accuracy: 0.7209\n",
            "Epoch 31/100\n",
            "12/12 - 0s - loss: 0.6804 - accuracy: 0.7209\n",
            "Epoch 32/100\n",
            "12/12 - 0s - loss: 0.6696 - accuracy: 0.7317\n",
            "Epoch 33/100\n",
            "12/12 - 0s - loss: 0.6746 - accuracy: 0.7182\n",
            "Epoch 34/100\n",
            "12/12 - 0s - loss: 0.6563 - accuracy: 0.7263\n",
            "Epoch 35/100\n",
            "12/12 - 0s - loss: 0.6597 - accuracy: 0.7290\n",
            "Epoch 36/100\n",
            "12/12 - 0s - loss: 0.6767 - accuracy: 0.7127\n",
            "Epoch 37/100\n",
            "12/12 - 0s - loss: 0.6442 - accuracy: 0.7182\n",
            "Epoch 38/100\n",
            "12/12 - 0s - loss: 0.6645 - accuracy: 0.7209\n",
            "Epoch 39/100\n",
            "12/12 - 0s - loss: 0.6489 - accuracy: 0.7317\n",
            "Epoch 40/100\n",
            "12/12 - 0s - loss: 0.6637 - accuracy: 0.7182\n",
            "Epoch 41/100\n",
            "12/12 - 0s - loss: 0.6491 - accuracy: 0.7290\n",
            "Epoch 42/100\n",
            "12/12 - 0s - loss: 0.6521 - accuracy: 0.7425\n",
            "Epoch 43/100\n",
            "12/12 - 0s - loss: 0.6501 - accuracy: 0.7317\n",
            "Epoch 44/100\n",
            "12/12 - 0s - loss: 0.6374 - accuracy: 0.7236\n",
            "Epoch 45/100\n",
            "12/12 - 0s - loss: 0.6311 - accuracy: 0.7290\n",
            "Epoch 46/100\n",
            "12/12 - 0s - loss: 0.6385 - accuracy: 0.7154\n",
            "Epoch 47/100\n",
            "12/12 - 0s - loss: 0.6376 - accuracy: 0.7290\n",
            "Epoch 48/100\n",
            "12/12 - 0s - loss: 0.6418 - accuracy: 0.7209\n",
            "Epoch 49/100\n",
            "12/12 - 0s - loss: 0.6249 - accuracy: 0.7100\n",
            "Epoch 50/100\n",
            "12/12 - 0s - loss: 0.6334 - accuracy: 0.7344\n",
            "Epoch 51/100\n",
            "12/12 - 0s - loss: 0.6240 - accuracy: 0.7154\n",
            "Epoch 52/100\n",
            "12/12 - 0s - loss: 0.6435 - accuracy: 0.7127\n",
            "Epoch 53/100\n",
            "12/12 - 0s - loss: 0.6169 - accuracy: 0.7344\n",
            "Epoch 54/100\n",
            "12/12 - 0s - loss: 0.6222 - accuracy: 0.7290\n",
            "Epoch 55/100\n",
            "12/12 - 0s - loss: 0.6186 - accuracy: 0.7317\n",
            "Epoch 56/100\n",
            "12/12 - 0s - loss: 0.6162 - accuracy: 0.7398\n",
            "Epoch 57/100\n",
            "12/12 - 0s - loss: 0.6254 - accuracy: 0.7344\n",
            "Epoch 58/100\n",
            "12/12 - 0s - loss: 0.6066 - accuracy: 0.7290\n",
            "Epoch 59/100\n",
            "12/12 - 0s - loss: 0.6332 - accuracy: 0.7317\n",
            "Epoch 60/100\n",
            "12/12 - 0s - loss: 0.6095 - accuracy: 0.7290\n",
            "Epoch 61/100\n",
            "12/12 - 0s - loss: 0.6295 - accuracy: 0.7019\n",
            "Epoch 62/100\n",
            "12/12 - 0s - loss: 0.6000 - accuracy: 0.7480\n",
            "Epoch 63/100\n",
            "12/12 - 0s - loss: 0.6046 - accuracy: 0.7209\n",
            "Epoch 64/100\n",
            "12/12 - 0s - loss: 0.6151 - accuracy: 0.7263\n",
            "Epoch 65/100\n",
            "12/12 - 0s - loss: 0.6081 - accuracy: 0.7046\n",
            "Epoch 66/100\n",
            "12/12 - 0s - loss: 0.5991 - accuracy: 0.7290\n",
            "Epoch 67/100\n",
            "12/12 - 0s - loss: 0.6137 - accuracy: 0.7154\n",
            "Epoch 68/100\n",
            "12/12 - 0s - loss: 0.6040 - accuracy: 0.7209\n",
            "Epoch 69/100\n",
            "12/12 - 0s - loss: 0.6192 - accuracy: 0.7100\n",
            "Epoch 70/100\n",
            "12/12 - 0s - loss: 0.6015 - accuracy: 0.7317\n",
            "Epoch 71/100\n",
            "12/12 - 0s - loss: 0.6054 - accuracy: 0.7317\n",
            "Epoch 72/100\n",
            "12/12 - 0s - loss: 0.6017 - accuracy: 0.7209\n",
            "Epoch 73/100\n",
            "12/12 - 0s - loss: 0.6061 - accuracy: 0.7154\n",
            "Epoch 74/100\n",
            "12/12 - 0s - loss: 0.5926 - accuracy: 0.7425\n",
            "Epoch 75/100\n",
            "12/12 - 0s - loss: 0.6003 - accuracy: 0.7398\n",
            "Epoch 76/100\n",
            "12/12 - 0s - loss: 0.6013 - accuracy: 0.7534\n",
            "Epoch 77/100\n",
            "12/12 - 0s - loss: 0.5814 - accuracy: 0.7588\n",
            "Epoch 78/100\n",
            "12/12 - 0s - loss: 0.5956 - accuracy: 0.7507\n",
            "Epoch 79/100\n",
            "12/12 - 0s - loss: 0.5896 - accuracy: 0.7290\n",
            "Epoch 80/100\n",
            "12/12 - 0s - loss: 0.5903 - accuracy: 0.7182\n",
            "Epoch 81/100\n",
            "12/12 - 0s - loss: 0.5981 - accuracy: 0.7046\n",
            "Epoch 82/100\n",
            "12/12 - 0s - loss: 0.5984 - accuracy: 0.7263\n",
            "Epoch 83/100\n",
            "12/12 - 0s - loss: 0.5823 - accuracy: 0.7317\n",
            "Epoch 84/100\n",
            "12/12 - 0s - loss: 0.5892 - accuracy: 0.7317\n",
            "Epoch 85/100\n",
            "12/12 - 0s - loss: 0.5885 - accuracy: 0.7100\n",
            "Epoch 86/100\n",
            "12/12 - 0s - loss: 0.5865 - accuracy: 0.7182\n",
            "Epoch 87/100\n",
            "12/12 - 0s - loss: 0.5835 - accuracy: 0.7371\n",
            "Epoch 88/100\n",
            "12/12 - 0s - loss: 0.5751 - accuracy: 0.7344\n",
            "Epoch 89/100\n",
            "12/12 - 0s - loss: 0.5961 - accuracy: 0.7290\n",
            "Epoch 90/100\n",
            "12/12 - 0s - loss: 0.5818 - accuracy: 0.7453\n",
            "Epoch 91/100\n",
            "12/12 - 0s - loss: 0.5797 - accuracy: 0.7398\n",
            "Epoch 92/100\n",
            "12/12 - 0s - loss: 0.5584 - accuracy: 0.7425\n",
            "Epoch 93/100\n",
            "12/12 - 0s - loss: 0.5777 - accuracy: 0.7425\n",
            "Epoch 94/100\n",
            "12/12 - 0s - loss: 0.5768 - accuracy: 0.7398\n",
            "Epoch 95/100\n",
            "12/12 - 0s - loss: 0.5764 - accuracy: 0.7317\n",
            "Epoch 96/100\n",
            "12/12 - 0s - loss: 0.5745 - accuracy: 0.7317\n",
            "Epoch 97/100\n",
            "12/12 - 0s - loss: 0.5645 - accuracy: 0.7561\n",
            "Epoch 98/100\n",
            "12/12 - 0s - loss: 0.5674 - accuracy: 0.7344\n",
            "Epoch 99/100\n",
            "12/12 - 0s - loss: 0.5694 - accuracy: 0.7507\n",
            "Epoch 100/100\n",
            "12/12 - 0s - loss: 0.5536 - accuracy: 0.7480\n",
            "--Evaluate model--\n",
            "WARNING:tensorflow:5 out of the last 13 calls to <function Model.make_test_function.<locals>.test_function at 0x7feabe772378> triggered tf.function retracing. Tracing is expensive and the excessive number of tracings could be due to (1) creating @tf.function repeatedly in a loop, (2) passing tensors with different shapes, (3) passing Python objects instead of tensors. For (1), please define your @tf.function outside of the loop. For (2), @tf.function has experimental_relax_shapes=True option that relaxes argument shapes that can avoid unnecessary retracing. For (3), please refer to https://www.tensorflow.org/tutorials/customization/performance#python_or_tensor_args and https://www.tensorflow.org/api_docs/python/tf/function for  more details.\n",
            "3/3 - 0s - loss: 0.5393 - accuracy: 0.7527\n",
            "Model Loss:    0.54\n",
            "Model Accuracy: 75.3%\n"
          ],
          "name": "stdout"
        }
      ]
    }
  ]
}